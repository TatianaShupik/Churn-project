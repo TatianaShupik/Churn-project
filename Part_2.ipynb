{
 "cells": [
  {
   "cell_type": "code",
   "execution_count": 1,
   "id": "1f812846-adf6-4551-8973-a14f2ffbaf43",
   "metadata": {},
   "outputs": [],
   "source": [
    "import pymongo\n",
    "import pandas as pd\n",
    "from pymongo import MongoClient\n"
   ]
  },
  {
   "cell_type": "code",
   "execution_count": 2,
   "id": "60e7ba41-9bb1-44e6-8a34-c421ac0f9f9d",
   "metadata": {},
   "outputs": [],
   "source": [
    "client = MongoClient('mongodb://localhost:27017/')\n",
    "db = client['BDA']\n",
    "collection = db['Customers']"
   ]
  },
  {
   "cell_type": "code",
   "execution_count": 3,
   "id": "18072049-cd3b-4d56-a0c1-59ba3bd19eb7",
   "metadata": {},
   "outputs": [],
   "source": [
    "required_fields = [\n",
    "    \"customerID\", \"gender\", \"SeniorCitizen\", \"Partner\", \"Dependents\", \n",
    "    \"tenure\", \"Contract\", \"PaperlessBilling\", \"PaymentMethod\", \n",
    "    \"MonthlyCharges\", \"TotalCharges\", \"Services\"\n",
    "]"
   ]
  },
  {
   "cell_type": "code",
   "execution_count": 4,
   "id": "ffe7ec29-cefc-4916-84ae-a85a106ea3a7",
   "metadata": {},
   "outputs": [],
   "source": [
    "query = {field: {\"$exists\": True} for field in required_fields}"
   ]
  },
  {
   "cell_type": "code",
   "execution_count": 5,
   "id": "fb9c1e46-7096-4de8-b2a5-7ce1446c7c8d",
   "metadata": {},
   "outputs": [],
   "source": [
    "documents_without_id = list(collection.find(query, {\"_id\": 0}))\n"
   ]
  },
  {
   "cell_type": "code",
   "execution_count": 6,
   "id": "f5dadd93-8c55-4145-be5d-fe565a11431d",
   "metadata": {},
   "outputs": [],
   "source": [
    "for doc in documents_without_id:\n",
    "    services = doc.pop(\"Services\", {})\n",
    "    for key, value in services.items():\n",
    "        doc[f\"Services.{key}\"] = value  "
   ]
  },
  {
   "cell_type": "code",
   "execution_count": 7,
   "id": "b17d5865-22a5-43d9-a851-a4a835c2ff68",
   "metadata": {},
   "outputs": [],
   "source": [
    "df = pd.DataFrame(documents_without_id) \n",
    "df.to_csv(\"collection.csv\")"
   ]
  },
  {
   "cell_type": "code",
   "execution_count": 8,
   "id": "f5be1a41-3ad5-4207-977d-b1240e26cf8b",
   "metadata": {},
   "outputs": [
    {
     "name": "stdout",
     "output_type": "stream",
     "text": [
      "      customerID  gender  SeniorCitizen Partner Dependents     tenure  \\\n",
      "0         id7044    Male              0     Yes         No  15.208851   \n",
      "1         id7045    Male              0      No        Yes  29.779905   \n",
      "2         id7046  Female              0     Yes        Yes  34.546357   \n",
      "3         id7047    Male              0      No         No  37.264434   \n",
      "4         id7049  Female              1      No         No  31.188870   \n",
      "...          ...     ...            ...     ...        ...        ...   \n",
      "23418    id32038    Male              0      No         No  10.304650   \n",
      "23419    id32039    Male              0      No        Yes  15.826004   \n",
      "23420    id32040    Male              0      No        Yes  33.852572   \n",
      "23421    id32041    Male              0     Yes        Yes  33.154407   \n",
      "23422    id32042  Female              0      No         No  32.327198   \n",
      "\n",
      "             Contract PaperlessBilling              PaymentMethod  \\\n",
      "0      Month-to-month             [No]    Credit card (automatic)   \n",
      "1      Month-to-month            [Yes]    Credit card (automatic)   \n",
      "2      Month-to-month            [Yes]               Mailed check   \n",
      "3      Month-to-month            [Yes]           Electronic check   \n",
      "4            Two year             [No]  Bank transfer (automatic)   \n",
      "...               ...              ...                        ...   \n",
      "23418  Month-to-month            [Yes]    Credit card (automatic)   \n",
      "23419  Month-to-month             [No]               Mailed check   \n",
      "23420        One year            [Yes]               Mailed check   \n",
      "23421  Month-to-month            [Yes]               Mailed check   \n",
      "23422  Month-to-month            [Yes]  Bank transfer (automatic)   \n",
      "\n",
      "       MonthlyCharges TotalCharges Services.PhoneService  \\\n",
      "0           45.682782       651.55                   Yes   \n",
      "1           40.301502       1359.7                    No   \n",
      "2           59.778062      1752.55                   Yes   \n",
      "3           58.392744        541.9                   Yes   \n",
      "4           87.322896        845.6                   Yes   \n",
      "...               ...          ...                   ...   \n",
      "23418       91.817322        867.3                   Yes   \n",
      "23419       71.692238       7962.2                   Yes   \n",
      "23420       86.958880        374.8                   Yes   \n",
      "23421       76.120814       238.15                   Yes   \n",
      "23422       98.706364       2021.2                   Yes   \n",
      "\n",
      "      Services.MultipleLines Services.InternetService Services.OnlineSecurity  \\\n",
      "0                         No                      DSL     No internet service   \n",
      "1                        Yes                      DSL     No internet service   \n",
      "2                         No                      DSL                     Yes   \n",
      "3                        Yes                      DSL                     Yes   \n",
      "4                        Yes              Fiber optic                      No   \n",
      "...                      ...                      ...                     ...   \n",
      "23418                    Yes              Fiber optic     No internet service   \n",
      "23419                    Yes                      DSL                     Yes   \n",
      "23420                    Yes              Fiber optic     No internet service   \n",
      "23421                    Yes              Fiber optic                      No   \n",
      "23422                     No              Fiber optic                      No   \n",
      "\n",
      "      Services.OnlineBackup Services.DeviceProtection Services.TechSupport  \\\n",
      "0                       Yes       No internet service                  Yes   \n",
      "1                       Yes                       Yes  No internet service   \n",
      "2                        No                       Yes                   No   \n",
      "3                        No                       Yes  No internet service   \n",
      "4                       Yes                       Yes  No internet service   \n",
      "...                     ...                       ...                  ...   \n",
      "23418                   Yes                       Yes                  Yes   \n",
      "23419                    No                        No                   No   \n",
      "23420   No internet service                        No                  Yes   \n",
      "23421                   Yes                        No                   No   \n",
      "23422                    No                        No                  Yes   \n",
      "\n",
      "      Services.StreamingTV Services.StreamingMovies  \n",
      "0                       No                      Yes  \n",
      "1                      Yes                      Yes  \n",
      "2      No internet service      No internet service  \n",
      "3                       No                      Yes  \n",
      "4      No internet service                       No  \n",
      "...                    ...                      ...  \n",
      "23418                  Yes      No internet service  \n",
      "23419                   No      No internet service  \n",
      "23420                  Yes                       No  \n",
      "23421                   No      No internet service  \n",
      "23422                  Yes                       No  \n",
      "\n",
      "[23423 rows x 20 columns]\n"
     ]
    }
   ],
   "source": [
    "print(df)"
   ]
  },
  {
   "cell_type": "code",
   "execution_count": 9,
   "id": "2196c30c-4c49-48f3-b62b-d304781fb51b",
   "metadata": {},
   "outputs": [
    {
     "name": "stdout",
     "output_type": "stream",
     "text": [
      "<class 'pandas.core.frame.DataFrame'>\n",
      "RangeIndex: 23423 entries, 0 to 23422\n",
      "Data columns (total 20 columns):\n",
      " #   Column                     Non-Null Count  Dtype  \n",
      "---  ------                     --------------  -----  \n",
      " 0   customerID                 23423 non-null  object \n",
      " 1   gender                     23423 non-null  object \n",
      " 2   SeniorCitizen              23423 non-null  int64  \n",
      " 3   Partner                    23423 non-null  object \n",
      " 4   Dependents                 23423 non-null  object \n",
      " 5   tenure                     23423 non-null  float64\n",
      " 6   Contract                   23423 non-null  object \n",
      " 7   PaperlessBilling           23423 non-null  object \n",
      " 8   PaymentMethod              23423 non-null  object \n",
      " 9   MonthlyCharges             23423 non-null  float64\n",
      " 10  TotalCharges               23423 non-null  object \n",
      " 11  Services.PhoneService      23423 non-null  object \n",
      " 12  Services.MultipleLines     23423 non-null  object \n",
      " 13  Services.InternetService   23423 non-null  object \n",
      " 14  Services.OnlineSecurity    23423 non-null  object \n",
      " 15  Services.OnlineBackup      23423 non-null  object \n",
      " 16  Services.DeviceProtection  23423 non-null  object \n",
      " 17  Services.TechSupport       23423 non-null  object \n",
      " 18  Services.StreamingTV       23423 non-null  object \n",
      " 19  Services.StreamingMovies   23423 non-null  object \n",
      "dtypes: float64(2), int64(1), object(17)\n",
      "memory usage: 3.6+ MB\n",
      "None\n"
     ]
    }
   ],
   "source": [
    "print(df.info())"
   ]
  },
  {
   "cell_type": "code",
   "execution_count": 10,
   "id": "81cd2ebd-c7a4-4529-abe9-b10409128873",
   "metadata": {},
   "outputs": [
    {
     "name": "stdout",
     "output_type": "stream",
     "text": [
      "<class 'pandas.core.frame.DataFrame'>\n",
      "RangeIndex: 23423 entries, 0 to 23422\n",
      "Data columns (total 20 columns):\n",
      " #   Column                     Non-Null Count  Dtype  \n",
      "---  ------                     --------------  -----  \n",
      " 0   customerID                 23423 non-null  object \n",
      " 1   gender                     23423 non-null  object \n",
      " 2   SeniorCitizen              23423 non-null  int64  \n",
      " 3   Partner                    23423 non-null  object \n",
      " 4   Dependents                 23423 non-null  object \n",
      " 5   tenure                     23423 non-null  float64\n",
      " 6   Contract                   23423 non-null  object \n",
      " 7   PaperlessBilling           23423 non-null  object \n",
      " 8   PaymentMethod              23423 non-null  object \n",
      " 9   MonthlyCharges             23423 non-null  float64\n",
      " 10  TotalCharges               23423 non-null  object \n",
      " 11  Services.PhoneService      23423 non-null  object \n",
      " 12  Services.MultipleLines     23423 non-null  object \n",
      " 13  Services.InternetService   23423 non-null  object \n",
      " 14  Services.OnlineSecurity    23423 non-null  object \n",
      " 15  Services.OnlineBackup      23423 non-null  object \n",
      " 16  Services.DeviceProtection  23423 non-null  object \n",
      " 17  Services.TechSupport       23423 non-null  object \n",
      " 18  Services.StreamingTV       23423 non-null  object \n",
      " 19  Services.StreamingMovies   23423 non-null  object \n",
      "dtypes: float64(2), int64(1), object(17)\n",
      "memory usage: 3.6+ MB\n",
      "None\n"
     ]
    }
   ],
   "source": [
    "print(df.info())"
   ]
  },
  {
   "cell_type": "code",
   "execution_count": 117,
   "id": "e6e76ae3-3368-45a0-8db3-269b81118b8c",
   "metadata": {},
   "outputs": [],
   "source": [
    "import pandas as pd\n",
    "import matplotlib.pyplot as plt\n",
    "from sklearn.ensemble import RandomForestClassifier # Importing the algorithm\n",
    "from sklearn.metrics import accuracy_score # importing \"accuracy_score\" from \"sklearn.metrics\""
   ]
  },
  {
   "cell_type": "markdown",
   "id": "6cc28370-296c-43d9-88d5-f2b3115e90a2",
   "metadata": {},
   "source": [
    "<H4>Creating the FUNCTIONS</H4>"
   ]
  },
  {
   "cell_type": "code",
   "execution_count": 118,
   "id": "24efbc8e-9d3c-430a-9c56-5d5caec67cb8",
   "metadata": {},
   "outputs": [],
   "source": [
    "def prep_churn_train (df):\n",
    "\n",
    "    df = df.rename(columns=str.lower) # Rename columns to lower letters\n",
    "    df.churn = (df.churn=='Yes').astype('int') # Label to numeric\n",
    "    df['totalcharges'] = df['totalcharges'].replace({\" \": \"0.0\"}).astype(float)\n",
    "    df=df.rename_axis('custid').reset_index()\n",
    "    # df['custid']=df['customerid'].str.strip().str[4:].astype(float)\n",
    "    df = df.drop(['paperlessbilling',  'customerid'], axis=1) # Drop some features which aren't informative\n",
    "    df = df.drop(['phoneservice','multiplelines','internetservice','onlinesecurity','onlinebackup',\n",
    "               'deviceprotection','techsupport','streamingtv','streamingmovies'], axis=1)\n",
    "    df = pd.get_dummies(df) # Categorical values to 1-hot (\"one hot\" encoding is a representation of categorical variables as binary vectors)\n",
    "    \n",
    "    df = df.astype(float) # Let's convert all data to float because some modules warn against other types\n",
    "    \n",
    "    \n",
    "    print('')\n",
    "    \n",
    "    # Check for nulls\n",
    "    null = df.isna().sum().sum()\n",
    "    print (f'There are {null} null values')\n",
    "    \n",
    "    # Check for DataType\n",
    "    dtype = df.dtypes.unique()[0]\n",
    "    print (f'There are {dtype} dtype')\n",
    "    \n",
    "    print('')\n",
    "    \n",
    "\n",
    "    return df"
   ]
  },
  {
   "cell_type": "markdown",
   "id": "c43db5bb-8eed-483b-aa22-3f6d978f1073",
   "metadata": {},
   "source": [
    "Fun - prep_churn_new"
   ]
  },
  {
   "cell_type": "code",
   "execution_count": 119,
   "id": "2f238bca-9524-4875-beb2-72df486fdb6b",
   "metadata": {},
   "outputs": [],
   "source": [
    "def prep_churn_new (df):\n",
    "\n",
    "    df = df.rename(columns=str.lower) # Rename columns to lower letters\n",
    "\n",
    "    df['totalcharges'] = df['totalcharges'].replace({\" \": \"0.0\"}).astype(float)\n",
    "    df=df.rename_axis('index').reset_index()\n",
    "    df['custid']=df['customerid'].str.strip().str[-4:].astype(float)\n",
    "\n",
    "    df = df.drop(['paperlessbilling', 'customerid','index'], axis=1) # Drop some features which aren't informative\n",
    "    df = df.drop([ 'services.phoneservice','services.multiplelines','services.internetservice','services.onlinesecurity','services.onlinebackup',\n",
    "               'services.deviceprotection','services.techsupport','services.streamingtv','services.streamingmovies'], axis=1)\n",
    "    df = pd.get_dummies(df) # Categorical values to 1-hot (\"one hot\" encoding is a representation of categorical variables as binary vectors)\n",
    "   \n",
    "    df = df.astype(float) # Let's convert all data to float because some modules warn against other types\n",
    "    \n",
    "   \n",
    "    \n",
    "    \n",
    "    \n",
    "    print('')\n",
    "    \n",
    "    # Check for nulls\n",
    "    null = df.isna().sum().sum()\n",
    "    print (f'There are {null} null values')\n",
    "    \n",
    "    # Check for DataType\n",
    "    dtype = df.dtypes.unique()[0]\n",
    "    print (f'There are {dtype} dtype')\n",
    "    \n",
    "    \n",
    "    print('')\n",
    "\n",
    "    return df"
   ]
  },
  {
   "cell_type": "markdown",
   "id": "a83a66fe-67d1-424b-a68a-c3adbcddcbea",
   "metadata": {},
   "source": [
    "Fun - split_churn_train"
   ]
  },
  {
   "cell_type": "code",
   "execution_count": 120,
   "id": "0fd6d236-29d9-411c-ba53-10c4fb7ca228",
   "metadata": {},
   "outputs": [],
   "source": [
    "def split_churn_train(df):\n",
    "\n",
    "    label = 'churn'\n",
    "    cstm = 'custid'\n",
    "\n",
    "    x_train = df.drop(label, axis=1)\n",
    "    x_train = x_train.drop(cstm, axis=1)\n",
    "    y_train = df[label]\n",
    "    cstm_train = df[cstm]\n",
    "    \n",
    "    return x_train,y_train,cstm_train"
   ]
  },
  {
   "cell_type": "markdown",
   "id": "8bde6595-6735-4688-898a-c5b34e798338",
   "metadata": {},
   "source": [
    "Fun - split_churn_new"
   ]
  },
  {
   "cell_type": "code",
   "execution_count": 121,
   "id": "bacd2b17-f127-48e0-847a-e55d610fb690",
   "metadata": {},
   "outputs": [],
   "source": [
    "def split_churn_new(df):\n",
    "    cstm = 'custid'\n",
    "\n",
    "    x_new = df.drop(cstm, axis=1)\n",
    "    cstm_new = df[cstm]\n",
    "    \n",
    "    return x_new, cstm_new"
   ]
  },
  {
   "cell_type": "markdown",
   "id": "67e1d37f-0023-4c50-b1a4-8b5610928131",
   "metadata": {},
   "source": [
    "Fun - training_random_forest"
   ]
  },
  {
   "cell_type": "code",
   "execution_count": 122,
   "id": "b7398ce3-b0ed-44d1-be44-e9e3217a8be3",
   "metadata": {},
   "outputs": [],
   "source": [
    "def training_random_forest(n,m,r,x_train,y_train):\n",
    "\n",
    "    model = RandomForestClassifier(n_estimators=n, max_depth=m, random_state=r)\n",
    "    model.fit(x_train, y_train)\n",
    "    \n",
    "    return model"
   ]
  },
  {
   "cell_type": "markdown",
   "id": "5cc3d0a0-bde0-4816-8e08-696582fcc5cd",
   "metadata": {},
   "source": [
    "Fun - prediction_random_forest"
   ]
  },
  {
   "cell_type": "code",
   "execution_count": 123,
   "id": "680052eb-870a-498f-abaa-9d22fa996fea",
   "metadata": {},
   "outputs": [],
   "source": [
    "def prediction_random_forest(model,x_new,df_orig):\n",
    "\n",
    "    y_new = model.predict(x_new) \n",
    "    y_new = pd.Series(y_new,name='predict')\n",
    "    output = df_orig.join(y_new)\n",
    "    \n",
    "    return output"
   ]
  },
  {
   "cell_type": "markdown",
   "id": "59864f18-757c-4f5c-9e55-e2867eacfe1c",
   "metadata": {},
   "source": [
    "Fun - random_forest_feature_importance"
   ]
  },
  {
   "cell_type": "code",
   "execution_count": 124,
   "id": "174f7d10-fcfd-491f-ae72-03952cddbd86",
   "metadata": {},
   "outputs": [],
   "source": [
    "def random_forest_feature_importance(model,x_new):\n",
    "\n",
    "    feature_importances = model.feature_importances_ # applying the method \"feature_importances_\" on the algorithm\n",
    "    features = x_new.columns # all the features\n",
    "    stats = pd.DataFrame({'feature':features, 'importance':feature_importances}) # creating the data frame\n",
    "    print(stats.sort_values('importance', ascending=False)) # Sorting the data frame\n",
    "\n",
    "    stats_sort = stats.sort_values('importance', ascending=True)\n",
    "    stats_sort.plot(y='importance', x='feature', kind='barh')\n",
    "    plt.title('Feature Importance of Random Forest')\n",
    "    plt.show()"
   ]
  },
  {
   "cell_type": "markdown",
   "id": "1e1f11ea-5658-46c6-9a79-c3421e4ce8d5",
   "metadata": {},
   "source": [
    "<H4>Load Data</H4>"
   ]
  },
  {
   "cell_type": "markdown",
   "id": "87cada62-e13d-4df4-923b-8a2185773d16",
   "metadata": {},
   "source": [
    "Load churn_train"
   ]
  },
  {
   "cell_type": "code",
   "execution_count": 125,
   "id": "3f38de8b-f743-4874-b0d8-ff171a0e4732",
   "metadata": {},
   "outputs": [
    {
     "data": {
      "text/plain": [
       "(7043, 21)"
      ]
     },
     "execution_count": 125,
     "metadata": {},
     "output_type": "execute_result"
    }
   ],
   "source": [
    "churn_train_orig = pd.read_csv('churn.csv')\n",
    "churn_train_orig.shape"
   ]
  },
  {
   "cell_type": "markdown",
   "id": "55596c51-780a-4ec8-94a0-e6a7d6bbd706",
   "metadata": {},
   "source": [
    "Load churn_new"
   ]
  },
  {
   "cell_type": "code",
   "execution_count": 126,
   "id": "19855d17-3048-4c7e-8253-5e38f4554f42",
   "metadata": {},
   "outputs": [
    {
     "data": {
      "text/plain": [
       "Index(['customerID', 'gender', 'SeniorCitizen', 'Partner', 'Dependents',\n",
       "       'tenure', 'PhoneService', 'MultipleLines', 'InternetService',\n",
       "       'OnlineSecurity', 'OnlineBackup', 'DeviceProtection', 'TechSupport',\n",
       "       'StreamingTV', 'StreamingMovies', 'Contract', 'PaperlessBilling',\n",
       "       'PaymentMethod', 'MonthlyCharges', 'TotalCharges', 'Churn'],\n",
       "      dtype='object')"
      ]
     },
     "execution_count": 126,
     "metadata": {},
     "output_type": "execute_result"
    }
   ],
   "source": [
    "churn_train_orig.columns"
   ]
  },
  {
   "cell_type": "code",
   "execution_count": 127,
   "id": "6f8ef198-e777-4140-a962-2c3a977a4bc3",
   "metadata": {},
   "outputs": [
    {
     "data": {
      "text/html": [
       "<div>\n",
       "<style scoped>\n",
       "    .dataframe tbody tr th:only-of-type {\n",
       "        vertical-align: middle;\n",
       "    }\n",
       "\n",
       "    .dataframe tbody tr th {\n",
       "        vertical-align: top;\n",
       "    }\n",
       "\n",
       "    .dataframe thead th {\n",
       "        text-align: right;\n",
       "    }\n",
       "</style>\n",
       "<table border=\"1\" class=\"dataframe\">\n",
       "  <thead>\n",
       "    <tr style=\"text-align: right;\">\n",
       "      <th></th>\n",
       "      <th>customerID</th>\n",
       "      <th>gender</th>\n",
       "      <th>SeniorCitizen</th>\n",
       "      <th>Partner</th>\n",
       "      <th>Dependents</th>\n",
       "      <th>tenure</th>\n",
       "      <th>PhoneService</th>\n",
       "      <th>MultipleLines</th>\n",
       "      <th>InternetService</th>\n",
       "      <th>OnlineSecurity</th>\n",
       "      <th>...</th>\n",
       "      <th>DeviceProtection</th>\n",
       "      <th>TechSupport</th>\n",
       "      <th>StreamingTV</th>\n",
       "      <th>StreamingMovies</th>\n",
       "      <th>Contract</th>\n",
       "      <th>PaperlessBilling</th>\n",
       "      <th>PaymentMethod</th>\n",
       "      <th>MonthlyCharges</th>\n",
       "      <th>TotalCharges</th>\n",
       "      <th>Churn</th>\n",
       "    </tr>\n",
       "  </thead>\n",
       "  <tbody>\n",
       "    <tr>\n",
       "      <th>0</th>\n",
       "      <td>7590-VHVEG</td>\n",
       "      <td>Female</td>\n",
       "      <td>0</td>\n",
       "      <td>Yes</td>\n",
       "      <td>No</td>\n",
       "      <td>1</td>\n",
       "      <td>No</td>\n",
       "      <td>No phone service</td>\n",
       "      <td>DSL</td>\n",
       "      <td>No</td>\n",
       "      <td>...</td>\n",
       "      <td>No</td>\n",
       "      <td>No</td>\n",
       "      <td>No</td>\n",
       "      <td>No</td>\n",
       "      <td>Month-to-month</td>\n",
       "      <td>Yes</td>\n",
       "      <td>Electronic check</td>\n",
       "      <td>29.85</td>\n",
       "      <td>29.85</td>\n",
       "      <td>No</td>\n",
       "    </tr>\n",
       "    <tr>\n",
       "      <th>1</th>\n",
       "      <td>5575-GNVDE</td>\n",
       "      <td>Male</td>\n",
       "      <td>0</td>\n",
       "      <td>No</td>\n",
       "      <td>No</td>\n",
       "      <td>34</td>\n",
       "      <td>Yes</td>\n",
       "      <td>No</td>\n",
       "      <td>DSL</td>\n",
       "      <td>Yes</td>\n",
       "      <td>...</td>\n",
       "      <td>Yes</td>\n",
       "      <td>No</td>\n",
       "      <td>No</td>\n",
       "      <td>No</td>\n",
       "      <td>One year</td>\n",
       "      <td>No</td>\n",
       "      <td>Mailed check</td>\n",
       "      <td>56.95</td>\n",
       "      <td>1889.5</td>\n",
       "      <td>No</td>\n",
       "    </tr>\n",
       "    <tr>\n",
       "      <th>2</th>\n",
       "      <td>3668-QPYBK</td>\n",
       "      <td>Male</td>\n",
       "      <td>0</td>\n",
       "      <td>No</td>\n",
       "      <td>No</td>\n",
       "      <td>2</td>\n",
       "      <td>Yes</td>\n",
       "      <td>No</td>\n",
       "      <td>DSL</td>\n",
       "      <td>Yes</td>\n",
       "      <td>...</td>\n",
       "      <td>No</td>\n",
       "      <td>No</td>\n",
       "      <td>No</td>\n",
       "      <td>No</td>\n",
       "      <td>Month-to-month</td>\n",
       "      <td>Yes</td>\n",
       "      <td>Mailed check</td>\n",
       "      <td>53.85</td>\n",
       "      <td>108.15</td>\n",
       "      <td>Yes</td>\n",
       "    </tr>\n",
       "    <tr>\n",
       "      <th>3</th>\n",
       "      <td>7795-CFOCW</td>\n",
       "      <td>Male</td>\n",
       "      <td>0</td>\n",
       "      <td>No</td>\n",
       "      <td>No</td>\n",
       "      <td>45</td>\n",
       "      <td>No</td>\n",
       "      <td>No phone service</td>\n",
       "      <td>DSL</td>\n",
       "      <td>Yes</td>\n",
       "      <td>...</td>\n",
       "      <td>Yes</td>\n",
       "      <td>Yes</td>\n",
       "      <td>No</td>\n",
       "      <td>No</td>\n",
       "      <td>One year</td>\n",
       "      <td>No</td>\n",
       "      <td>Bank transfer (automatic)</td>\n",
       "      <td>42.30</td>\n",
       "      <td>1840.75</td>\n",
       "      <td>No</td>\n",
       "    </tr>\n",
       "    <tr>\n",
       "      <th>4</th>\n",
       "      <td>9237-HQITU</td>\n",
       "      <td>Female</td>\n",
       "      <td>0</td>\n",
       "      <td>No</td>\n",
       "      <td>No</td>\n",
       "      <td>2</td>\n",
       "      <td>Yes</td>\n",
       "      <td>No</td>\n",
       "      <td>Fiber optic</td>\n",
       "      <td>No</td>\n",
       "      <td>...</td>\n",
       "      <td>No</td>\n",
       "      <td>No</td>\n",
       "      <td>No</td>\n",
       "      <td>No</td>\n",
       "      <td>Month-to-month</td>\n",
       "      <td>Yes</td>\n",
       "      <td>Electronic check</td>\n",
       "      <td>70.70</td>\n",
       "      <td>151.65</td>\n",
       "      <td>Yes</td>\n",
       "    </tr>\n",
       "    <tr>\n",
       "      <th>...</th>\n",
       "      <td>...</td>\n",
       "      <td>...</td>\n",
       "      <td>...</td>\n",
       "      <td>...</td>\n",
       "      <td>...</td>\n",
       "      <td>...</td>\n",
       "      <td>...</td>\n",
       "      <td>...</td>\n",
       "      <td>...</td>\n",
       "      <td>...</td>\n",
       "      <td>...</td>\n",
       "      <td>...</td>\n",
       "      <td>...</td>\n",
       "      <td>...</td>\n",
       "      <td>...</td>\n",
       "      <td>...</td>\n",
       "      <td>...</td>\n",
       "      <td>...</td>\n",
       "      <td>...</td>\n",
       "      <td>...</td>\n",
       "      <td>...</td>\n",
       "    </tr>\n",
       "    <tr>\n",
       "      <th>7038</th>\n",
       "      <td>6840-RESVB</td>\n",
       "      <td>Male</td>\n",
       "      <td>0</td>\n",
       "      <td>Yes</td>\n",
       "      <td>Yes</td>\n",
       "      <td>24</td>\n",
       "      <td>Yes</td>\n",
       "      <td>Yes</td>\n",
       "      <td>DSL</td>\n",
       "      <td>Yes</td>\n",
       "      <td>...</td>\n",
       "      <td>Yes</td>\n",
       "      <td>Yes</td>\n",
       "      <td>Yes</td>\n",
       "      <td>Yes</td>\n",
       "      <td>One year</td>\n",
       "      <td>Yes</td>\n",
       "      <td>Mailed check</td>\n",
       "      <td>84.80</td>\n",
       "      <td>1990.5</td>\n",
       "      <td>No</td>\n",
       "    </tr>\n",
       "    <tr>\n",
       "      <th>7039</th>\n",
       "      <td>2234-XADUH</td>\n",
       "      <td>Female</td>\n",
       "      <td>0</td>\n",
       "      <td>Yes</td>\n",
       "      <td>Yes</td>\n",
       "      <td>72</td>\n",
       "      <td>Yes</td>\n",
       "      <td>Yes</td>\n",
       "      <td>Fiber optic</td>\n",
       "      <td>No</td>\n",
       "      <td>...</td>\n",
       "      <td>Yes</td>\n",
       "      <td>No</td>\n",
       "      <td>Yes</td>\n",
       "      <td>Yes</td>\n",
       "      <td>One year</td>\n",
       "      <td>Yes</td>\n",
       "      <td>Credit card (automatic)</td>\n",
       "      <td>103.20</td>\n",
       "      <td>7362.9</td>\n",
       "      <td>No</td>\n",
       "    </tr>\n",
       "    <tr>\n",
       "      <th>7040</th>\n",
       "      <td>4801-JZAZL</td>\n",
       "      <td>Female</td>\n",
       "      <td>0</td>\n",
       "      <td>Yes</td>\n",
       "      <td>Yes</td>\n",
       "      <td>11</td>\n",
       "      <td>No</td>\n",
       "      <td>No phone service</td>\n",
       "      <td>DSL</td>\n",
       "      <td>Yes</td>\n",
       "      <td>...</td>\n",
       "      <td>No</td>\n",
       "      <td>No</td>\n",
       "      <td>No</td>\n",
       "      <td>No</td>\n",
       "      <td>Month-to-month</td>\n",
       "      <td>Yes</td>\n",
       "      <td>Electronic check</td>\n",
       "      <td>29.60</td>\n",
       "      <td>346.45</td>\n",
       "      <td>No</td>\n",
       "    </tr>\n",
       "    <tr>\n",
       "      <th>7041</th>\n",
       "      <td>8361-LTMKD</td>\n",
       "      <td>Male</td>\n",
       "      <td>1</td>\n",
       "      <td>Yes</td>\n",
       "      <td>No</td>\n",
       "      <td>4</td>\n",
       "      <td>Yes</td>\n",
       "      <td>Yes</td>\n",
       "      <td>Fiber optic</td>\n",
       "      <td>No</td>\n",
       "      <td>...</td>\n",
       "      <td>No</td>\n",
       "      <td>No</td>\n",
       "      <td>No</td>\n",
       "      <td>No</td>\n",
       "      <td>Month-to-month</td>\n",
       "      <td>Yes</td>\n",
       "      <td>Mailed check</td>\n",
       "      <td>74.40</td>\n",
       "      <td>306.6</td>\n",
       "      <td>Yes</td>\n",
       "    </tr>\n",
       "    <tr>\n",
       "      <th>7042</th>\n",
       "      <td>3186-AJIEK</td>\n",
       "      <td>Male</td>\n",
       "      <td>0</td>\n",
       "      <td>No</td>\n",
       "      <td>No</td>\n",
       "      <td>66</td>\n",
       "      <td>Yes</td>\n",
       "      <td>No</td>\n",
       "      <td>Fiber optic</td>\n",
       "      <td>Yes</td>\n",
       "      <td>...</td>\n",
       "      <td>Yes</td>\n",
       "      <td>Yes</td>\n",
       "      <td>Yes</td>\n",
       "      <td>Yes</td>\n",
       "      <td>Two year</td>\n",
       "      <td>Yes</td>\n",
       "      <td>Bank transfer (automatic)</td>\n",
       "      <td>105.65</td>\n",
       "      <td>6844.5</td>\n",
       "      <td>No</td>\n",
       "    </tr>\n",
       "  </tbody>\n",
       "</table>\n",
       "<p>7043 rows × 21 columns</p>\n",
       "</div>"
      ],
      "text/plain": [
       "      customerID  gender  SeniorCitizen Partner Dependents  tenure  \\\n",
       "0     7590-VHVEG  Female              0     Yes         No       1   \n",
       "1     5575-GNVDE    Male              0      No         No      34   \n",
       "2     3668-QPYBK    Male              0      No         No       2   \n",
       "3     7795-CFOCW    Male              0      No         No      45   \n",
       "4     9237-HQITU  Female              0      No         No       2   \n",
       "...          ...     ...            ...     ...        ...     ...   \n",
       "7038  6840-RESVB    Male              0     Yes        Yes      24   \n",
       "7039  2234-XADUH  Female              0     Yes        Yes      72   \n",
       "7040  4801-JZAZL  Female              0     Yes        Yes      11   \n",
       "7041  8361-LTMKD    Male              1     Yes         No       4   \n",
       "7042  3186-AJIEK    Male              0      No         No      66   \n",
       "\n",
       "     PhoneService     MultipleLines InternetService OnlineSecurity  ...  \\\n",
       "0              No  No phone service             DSL             No  ...   \n",
       "1             Yes                No             DSL            Yes  ...   \n",
       "2             Yes                No             DSL            Yes  ...   \n",
       "3              No  No phone service             DSL            Yes  ...   \n",
       "4             Yes                No     Fiber optic             No  ...   \n",
       "...           ...               ...             ...            ...  ...   \n",
       "7038          Yes               Yes             DSL            Yes  ...   \n",
       "7039          Yes               Yes     Fiber optic             No  ...   \n",
       "7040           No  No phone service             DSL            Yes  ...   \n",
       "7041          Yes               Yes     Fiber optic             No  ...   \n",
       "7042          Yes                No     Fiber optic            Yes  ...   \n",
       "\n",
       "     DeviceProtection TechSupport StreamingTV StreamingMovies        Contract  \\\n",
       "0                  No          No          No              No  Month-to-month   \n",
       "1                 Yes          No          No              No        One year   \n",
       "2                  No          No          No              No  Month-to-month   \n",
       "3                 Yes         Yes          No              No        One year   \n",
       "4                  No          No          No              No  Month-to-month   \n",
       "...               ...         ...         ...             ...             ...   \n",
       "7038              Yes         Yes         Yes             Yes        One year   \n",
       "7039              Yes          No         Yes             Yes        One year   \n",
       "7040               No          No          No              No  Month-to-month   \n",
       "7041               No          No          No              No  Month-to-month   \n",
       "7042              Yes         Yes         Yes             Yes        Two year   \n",
       "\n",
       "     PaperlessBilling              PaymentMethod MonthlyCharges  TotalCharges  \\\n",
       "0                 Yes           Electronic check          29.85         29.85   \n",
       "1                  No               Mailed check          56.95        1889.5   \n",
       "2                 Yes               Mailed check          53.85        108.15   \n",
       "3                  No  Bank transfer (automatic)          42.30       1840.75   \n",
       "4                 Yes           Electronic check          70.70        151.65   \n",
       "...               ...                        ...            ...           ...   \n",
       "7038              Yes               Mailed check          84.80        1990.5   \n",
       "7039              Yes    Credit card (automatic)         103.20        7362.9   \n",
       "7040              Yes           Electronic check          29.60        346.45   \n",
       "7041              Yes               Mailed check          74.40         306.6   \n",
       "7042              Yes  Bank transfer (automatic)         105.65        6844.5   \n",
       "\n",
       "     Churn  \n",
       "0       No  \n",
       "1       No  \n",
       "2      Yes  \n",
       "3       No  \n",
       "4      Yes  \n",
       "...    ...  \n",
       "7038    No  \n",
       "7039    No  \n",
       "7040    No  \n",
       "7041   Yes  \n",
       "7042    No  \n",
       "\n",
       "[7043 rows x 21 columns]"
      ]
     },
     "execution_count": 127,
     "metadata": {},
     "output_type": "execute_result"
    }
   ],
   "source": [
    "churn_train_orig"
   ]
  },
  {
   "cell_type": "code",
   "execution_count": 128,
   "id": "3a959895-ce87-43d7-bc16-3f5e4d80219a",
   "metadata": {},
   "outputs": [
    {
     "data": {
      "text/plain": [
       "Index(['customerID', 'gender', 'SeniorCitizen', 'Partner', 'Dependents',\n",
       "       'tenure', 'PhoneService', 'MultipleLines', 'InternetService',\n",
       "       'OnlineSecurity', 'OnlineBackup', 'DeviceProtection', 'TechSupport',\n",
       "       'StreamingTV', 'StreamingMovies', 'Contract', 'PaperlessBilling',\n",
       "       'PaymentMethod', 'MonthlyCharges', 'TotalCharges', 'Churn'],\n",
       "      dtype='object')"
      ]
     },
     "execution_count": 128,
     "metadata": {},
     "output_type": "execute_result"
    }
   ],
   "source": [
    "churn_train_orig.columns"
   ]
  },
  {
   "cell_type": "code",
   "execution_count": 129,
   "id": "08288325-b123-4f79-9c0f-6faaf1d761b4",
   "metadata": {},
   "outputs": [
    {
     "data": {
      "text/plain": [
       "(23423, 20)"
      ]
     },
     "execution_count": 129,
     "metadata": {},
     "output_type": "execute_result"
    }
   ],
   "source": [
    "churn_new_orig = pd.read_csv('collection.csv',index_col=0)\n",
    "churn_new_orig.shape"
   ]
  },
  {
   "cell_type": "markdown",
   "id": "a92ced6e-51cd-4782-ac7a-730ddc062726",
   "metadata": {},
   "source": [
    "<H4>Using the FUNCTIONS</H4>"
   ]
  },
  {
   "cell_type": "markdown",
   "id": "56666fb6-ae5f-4512-a75a-2f57a5f3f261",
   "metadata": {},
   "source": [
    "Using prep_churn_train"
   ]
  },
  {
   "cell_type": "code",
   "execution_count": 130,
   "id": "3a9d36e2-b0a4-4fd3-8146-4202ef4ad16a",
   "metadata": {},
   "outputs": [
    {
     "data": {
      "text/plain": [
       "Index(['customerID', 'gender', 'SeniorCitizen', 'Partner', 'Dependents',\n",
       "       'tenure', 'Contract', 'PaperlessBilling', 'PaymentMethod',\n",
       "       'MonthlyCharges', 'TotalCharges', 'Services.PhoneService',\n",
       "       'Services.MultipleLines', 'Services.InternetService',\n",
       "       'Services.OnlineSecurity', 'Services.OnlineBackup',\n",
       "       'Services.DeviceProtection', 'Services.TechSupport',\n",
       "       'Services.StreamingTV', 'Services.StreamingMovies'],\n",
       "      dtype='object')"
      ]
     },
     "execution_count": 130,
     "metadata": {},
     "output_type": "execute_result"
    }
   ],
   "source": [
    "churn_new_orig.columns"
   ]
  },
  {
   "cell_type": "code",
   "execution_count": 131,
   "id": "b63f44d5-d3ae-4011-840f-6593b2c78903",
   "metadata": {},
   "outputs": [
    {
     "name": "stdout",
     "output_type": "stream",
     "text": [
      "\n",
      "There are 0 null values\n",
      "There are float64 dtype\n",
      "\n"
     ]
    }
   ],
   "source": [
    "churn_train = prep_churn_train(churn_train_orig)"
   ]
  },
  {
   "cell_type": "code",
   "execution_count": 132,
   "id": "8f69e1fe-2fcd-44a4-a27d-c2d3f1612d4c",
   "metadata": {},
   "outputs": [
    {
     "name": "stdout",
     "output_type": "stream",
     "text": [
      "<class 'pandas.core.frame.DataFrame'>\n",
      "RangeIndex: 7043 entries, 0 to 7042\n",
      "Data columns (total 19 columns):\n",
      " #   Column                                   Non-Null Count  Dtype  \n",
      "---  ------                                   --------------  -----  \n",
      " 0   custid                                   7043 non-null   float64\n",
      " 1   seniorcitizen                            7043 non-null   float64\n",
      " 2   tenure                                   7043 non-null   float64\n",
      " 3   monthlycharges                           7043 non-null   float64\n",
      " 4   totalcharges                             7043 non-null   float64\n",
      " 5   churn                                    7043 non-null   float64\n",
      " 6   gender_Female                            7043 non-null   float64\n",
      " 7   gender_Male                              7043 non-null   float64\n",
      " 8   partner_No                               7043 non-null   float64\n",
      " 9   partner_Yes                              7043 non-null   float64\n",
      " 10  dependents_No                            7043 non-null   float64\n",
      " 11  dependents_Yes                           7043 non-null   float64\n",
      " 12  contract_Month-to-month                  7043 non-null   float64\n",
      " 13  contract_One year                        7043 non-null   float64\n",
      " 14  contract_Two year                        7043 non-null   float64\n",
      " 15  paymentmethod_Bank transfer (automatic)  7043 non-null   float64\n",
      " 16  paymentmethod_Credit card (automatic)    7043 non-null   float64\n",
      " 17  paymentmethod_Electronic check           7043 non-null   float64\n",
      " 18  paymentmethod_Mailed check               7043 non-null   float64\n",
      "dtypes: float64(19)\n",
      "memory usage: 1.0 MB\n",
      "None\n"
     ]
    }
   ],
   "source": [
    "print(churn_train.info())"
   ]
  },
  {
   "cell_type": "markdown",
   "id": "3ce40e99-24f3-4dc8-b834-817f4eeb63a3",
   "metadata": {},
   "source": [
    "Using prep_churn_new"
   ]
  },
  {
   "cell_type": "code",
   "execution_count": 133,
   "id": "3ed43a6d-2ac8-4e82-96dd-aff2e08010c0",
   "metadata": {},
   "outputs": [
    {
     "name": "stdout",
     "output_type": "stream",
     "text": [
      "\n",
      "There are 0 null values\n",
      "There are float64 dtype\n",
      "\n"
     ]
    }
   ],
   "source": [
    "churn_new = prep_churn_new(churn_new_orig)"
   ]
  },
  {
   "cell_type": "markdown",
   "id": "f8aed712-a495-40d0-a034-54627c80e23f",
   "metadata": {},
   "source": [
    "Using split_churn_train"
   ]
  },
  {
   "cell_type": "code",
   "execution_count": 134,
   "id": "15382649-5556-4038-a25e-5a6e94846966",
   "metadata": {},
   "outputs": [
    {
     "name": "stdout",
     "output_type": "stream",
     "text": [
      "<class 'pandas.core.frame.DataFrame'>\n",
      "RangeIndex: 23423 entries, 0 to 23422\n",
      "Data columns (total 18 columns):\n",
      " #   Column                                   Non-Null Count  Dtype  \n",
      "---  ------                                   --------------  -----  \n",
      " 0   seniorcitizen                            23423 non-null  float64\n",
      " 1   tenure                                   23423 non-null  float64\n",
      " 2   monthlycharges                           23423 non-null  float64\n",
      " 3   totalcharges                             23423 non-null  float64\n",
      " 4   custid                                   23423 non-null  float64\n",
      " 5   gender_Female                            23423 non-null  float64\n",
      " 6   gender_Male                              23423 non-null  float64\n",
      " 7   partner_No                               23423 non-null  float64\n",
      " 8   partner_Yes                              23423 non-null  float64\n",
      " 9   dependents_No                            23423 non-null  float64\n",
      " 10  dependents_Yes                           23423 non-null  float64\n",
      " 11  contract_Month-to-month                  23423 non-null  float64\n",
      " 12  contract_One year                        23423 non-null  float64\n",
      " 13  contract_Two year                        23423 non-null  float64\n",
      " 14  paymentmethod_Bank transfer (automatic)  23423 non-null  float64\n",
      " 15  paymentmethod_Credit card (automatic)    23423 non-null  float64\n",
      " 16  paymentmethod_Electronic check           23423 non-null  float64\n",
      " 17  paymentmethod_Mailed check               23423 non-null  float64\n",
      "dtypes: float64(18)\n",
      "memory usage: 3.2 MB\n",
      "None\n"
     ]
    }
   ],
   "source": [
    "print(churn_new.info())"
   ]
  },
  {
   "cell_type": "code",
   "execution_count": 135,
   "id": "63c5ca24-b758-4602-81aa-20a6784f8cd9",
   "metadata": {},
   "outputs": [],
   "source": [
    "x_train, y_train, cstm_train = split_churn_train(churn_train)"
   ]
  },
  {
   "cell_type": "markdown",
   "id": "82fa1ef0-5c68-4b88-affd-0d487fefcf58",
   "metadata": {},
   "source": [
    "Using split_churn_new"
   ]
  },
  {
   "cell_type": "code",
   "execution_count": 136,
   "id": "1f59d0da-10d6-4dd9-a22f-150c4ed1d917",
   "metadata": {},
   "outputs": [],
   "source": [
    "x_new, cstm_new = split_churn_new(churn_new)"
   ]
  },
  {
   "cell_type": "markdown",
   "id": "235d45ff-ee71-4c74-a837-89754c330d2c",
   "metadata": {},
   "source": [
    "Using training_random_forest"
   ]
  },
  {
   "cell_type": "code",
   "execution_count": 137,
   "id": "c7580e16-0a3c-4937-b51a-08a7e7a67a3a",
   "metadata": {},
   "outputs": [],
   "source": [
    "model = training_random_forest(100,3,1,x_train,y_train)"
   ]
  },
  {
   "cell_type": "markdown",
   "id": "7b5608fc-f734-45e9-ac21-61b0c9eb89a1",
   "metadata": {},
   "source": [
    "Using prediction_random_forest"
   ]
  },
  {
   "cell_type": "code",
   "execution_count": 138,
   "id": "e0412535-83c2-48e0-b245-b259ac8548f9",
   "metadata": {},
   "outputs": [],
   "source": [
    "churn_new_orig_with_predict = prediction_random_forest(model,x_new,churn_new_orig)\n",
    "churn_new_orig_with_predict.to_csv('churn_new_orig_with_predict.csv')"
   ]
  },
  {
   "cell_type": "markdown",
   "id": "9c3cf2d4-1068-4aae-97b9-aa2647730eb5",
   "metadata": {},
   "source": [
    "Using random_forest_feature_importance"
   ]
  },
  {
   "cell_type": "code",
   "execution_count": 139,
   "id": "ba70b107-7fe6-41a6-b90d-8ae2d6a35aab",
   "metadata": {},
   "outputs": [
    {
     "name": "stdout",
     "output_type": "stream",
     "text": [
      "                                    feature  importance\n",
      "10                  contract_Month-to-month    0.257951\n",
      "1                                    tenure    0.200549\n",
      "15           paymentmethod_Electronic check    0.156433\n",
      "2                            monthlycharges    0.110083\n",
      "12                        contract_Two year    0.106681\n",
      "3                              totalcharges    0.070612\n",
      "11                        contract_One year    0.045241\n",
      "8                             dependents_No    0.010670\n",
      "16               paymentmethod_Mailed check    0.010432\n",
      "0                             seniorcitizen    0.010344\n",
      "9                            dependents_Yes    0.010277\n",
      "7                               partner_Yes    0.004391\n",
      "6                                partner_No    0.004098\n",
      "14    paymentmethod_Credit card (automatic)    0.002002\n",
      "5                               gender_Male    0.000099\n",
      "4                             gender_Female    0.000087\n",
      "13  paymentmethod_Bank transfer (automatic)    0.000049\n"
     ]
    },
    {
     "data": {
      "image/png": "[encoded data removed]",
      "text/plain": [
       "<Figure size 640x480 with 1 Axes>"
      ]
     },
     "metadata": {},
     "output_type": "display_data"
    }
   ],
   "source": [
    "random_forest_feature_importance(model,x_new)"
   ]
  },
  {
   "cell_type": "markdown",
   "id": "03ce17d0-80b9-4286-b866-6fadf7f4a5c1",
   "metadata": {},
   "source": [
    "<H4>Accuracy</H4>"
   ]
  },
  {
   "cell_type": "code",
   "execution_count": 140,
   "id": "821d1c3d-b191-41fb-a6e2-714c9c47f844",
   "metadata": {},
   "outputs": [
    {
     "data": {
      "text/plain": [
       "0.7803492829760046"
      ]
     },
     "execution_count": 140,
     "metadata": {},
     "output_type": "execute_result"
    }
   ],
   "source": [
    "y_train_pred_RandomForest = model.predict(x_train) \n",
    "test_acc = accuracy_score(y_train, y_train_pred_RandomForest)\n",
    "test_acc"
   ]
  },
  {
   "cell_type": "code",
   "execution_count": null,
   "id": "be7eaaaf-3a96-4b42-aeb4-1e0fbe1b1403",
   "metadata": {},
   "outputs": [],
   "source": []
  }
 ],
 "metadata": {
  "kernelspec": {
   "display_name": "Python 3 (ipykernel)",
   "language": "python",
   "name": "python3"
  },
  "language_info": {
   "codemirror_mode": {
    "name": "ipython",
    "version": 3
   },
   "file_extension": ".py",
   "mimetype": "text/x-python",
   "name": "python",
   "nbconvert_exporter": "python",
   "pygments_lexer": "ipython3",
   "version": "3.12.5"
  }
 },
 "nbformat": 4,
 "nbformat_minor": 5
}
